{
 "cells": [
  {
   "cell_type": "markdown",
   "metadata": {},
   "source": [
    "# 2주차"
   ]
  },
  {
   "cell_type": "markdown",
   "metadata": {},
   "source": [
    "### 1번 : 하샤드 수 찾기 "
   ]
  },
  {
   "cell_type": "code",
   "execution_count": 16,
   "metadata": {},
   "outputs": [],
   "source": [
    "# 양의 정수 x가 하샤드 수이려면 x의 자릿수의 합으로 x가 나누어져야 합니다. \n",
    "# 예를 들어 18의 자릿수 합은 1+8=9이고, 18은 9로 나누어 떨어지므로 18은 하샤드 수입니다. \n",
    "# 자연수 x를 입력받아 x가 하샤드 수인지 아닌지 검사하는 함수, solution을 완성해주세요.\n",
    "\n",
    "# 맨 처음에 \n",
    "def solution(x):\n",
    "    h_num = 0 \n",
    "    input_num = x\n",
    "    while(x > 0):\n",
    "        h_num += (x % 10) \n",
    "        x //= 10\n",
    "    if input_num % h_num == 0 :\n",
    "        answer = True\n",
    "    else : answer = False\n",
    "    return answer\n"
   ]
  },
  {
   "cell_type": "code",
   "execution_count": 17,
   "metadata": {},
   "outputs": [
    {
     "data": {
      "text/plain": [
       "False"
      ]
     },
     "execution_count": 17,
     "metadata": {},
     "output_type": "execute_result"
    }
   ],
   "source": [
    "solution(11)"
   ]
  },
  {
   "cell_type": "code",
   "execution_count": null,
   "metadata": {},
   "outputs": [],
   "source": [
    "# 리턴 값을 바로 받기 \n",
    "def solution(x):\n",
    "    h_num = 0 \n",
    "    input_num = x\n",
    "    while(x > 0):\n",
    "        h_num += (x % 10) \n",
    "        x //= 10\n",
    "    return input_num % h_num == 0"
   ]
  },
  {
   "cell_type": "code",
   "execution_count": null,
   "metadata": {},
   "outputs": [],
   "source": [
    "# 다른 사람 풀이 보고 한 수 배움 : 반복문 쓰지 않고 하는 방법 \n",
    "def solution(x):\n",
    "   return x % sum([int(i) for i in list(str(x))]) == 0 "
   ]
  },
  {
   "cell_type": "markdown",
   "metadata": {},
   "source": [
    "### 2번 : 나머지가 1이 되는 수 찾기 "
   ]
  },
  {
   "cell_type": "code",
   "execution_count": 2,
   "metadata": {},
   "outputs": [],
   "source": [
    "# 자연수 n이 매개변수로 주어집니다. n을 x로 나눈 나머지가 1이 되도록 하는 가장 작은 자연수 x를 return 하도록 solution 함수를 완성해주세요. \n",
    "# 답이 항상 존재함은 증명될 수 있습니다.\n",
    "# -- x는 1이상 n-1 이하 \n",
    "def solution(n):\n",
    "    for i in range(1, n):\n",
    "        if n % i == 1 :\n",
    "            break \n",
    "    return i"
   ]
  },
  {
   "cell_type": "markdown",
   "metadata": {},
   "source": [
    "### 3번 : 제일 작은 수 제거하기 \n"
   ]
  },
  {
   "cell_type": "code",
   "execution_count": 13,
   "metadata": {},
   "outputs": [],
   "source": [
    "# 정수를 저장한 배열, arr 에서 가장 작은 수를 제거한 배열을 리턴하는 함수, solution을 완성해주세요. \n",
    "# 단, 리턴하려는 배열이 빈 배열인 경우엔 배열에 -1을 채워 리턴하세요. \n",
    "# 예를들어 arr이 [4,3,2,1]인 경우는 [4,3,2]를 리턴 하고, [10]면 [-1]을 리턴 합니다.\n",
    "\n",
    "def solution(arr):\n",
    "    if len(arr) > 1 :\n",
    "        arr.remove(min(arr))\n",
    "    else : arr = [-1]\n",
    "    return arr"
   ]
  },
  {
   "cell_type": "code",
   "execution_count": 14,
   "metadata": {},
   "outputs": [
    {
     "data": {
      "text/plain": [
       "[4, 3, 2]"
      ]
     },
     "execution_count": 14,
     "metadata": {},
     "output_type": "execute_result"
    }
   ],
   "source": [
    "arr = [4,3,2,1]\n",
    "solution(arr)"
   ]
  },
  {
   "cell_type": "markdown",
   "metadata": {},
   "source": [
    "### 4번 : 약수의 합 "
   ]
  },
  {
   "cell_type": "code",
   "execution_count": 15,
   "metadata": {},
   "outputs": [],
   "source": [
    "# 정수 n을 입력받아 n의 약수를 모두 더한 값을 리턴하는 함수, solution을 완성해주세요.\n",
    "def solution(n):\n",
    "    answer = 0\n",
    "    for i in range(1, n+1):\n",
    "        if n % i == 0 : \n",
    "            answer += i \n",
    "    return answer"
   ]
  },
  {
   "cell_type": "code",
   "execution_count": null,
   "metadata": {},
   "outputs": [],
   "source": [
    "# list comprehension 사용 \n",
    "def solution(n):\n",
    "    num_list = [i for i in range(1,n+1) if n % i == 0]\n",
    "    return sum(num_list)"
   ]
  },
  {
   "cell_type": "code",
   "execution_count": 16,
   "metadata": {},
   "outputs": [
    {
     "data": {
      "text/plain": [
       "28"
      ]
     },
     "execution_count": 16,
     "metadata": {},
     "output_type": "execute_result"
    }
   ],
   "source": [
    "solution(12)"
   ]
  },
  {
   "cell_type": "code",
   "execution_count": null,
   "metadata": {},
   "outputs": [],
   "source": [
    "# 다른 사람 풀이 보고 한 수 배움\n",
    "def sumDivisor(num):\n",
    "    # num / 2 의 수들만 검사하면 성능 약 2배 향상잼\n",
    "    return num + sum([i for i in range(1, (num // 2) + 1) if num % i == 0])\n",
    "\n",
    "# -- 약수에 자기 자신은 언제나 포함.(몫 = 1) \n",
    "# -- 그 이하는 절반의 수만 검사하면 된다. (몫 == 2일 때가 반값일 때니까)"
   ]
  },
  {
   "cell_type": "markdown",
   "metadata": {},
   "source": [
    "### 5번 : 콜라츠 추측  "
   ]
  },
  {
   "cell_type": "code",
   "execution_count": 17,
   "metadata": {},
   "outputs": [],
   "source": [
    "#1937년 Collatz란 사람에 의해 제기된 이 추측은, 주어진 수가 1이 될 때까지 다음 작업을 반복하면, 모든 수를 1로 만들 수 있다는 추측입니다. \n",
    "# 작업은 다음과 같습니다.\n",
    "# 1-1. 입력된 수가 짝수라면 2로 나눕니다. \n",
    "# 1-2. 입력된 수가 홀수라면 3을 곱하고 1을 더합니다. \n",
    "# 2. 결과로 나온 수에 같은 작업을 1이 될 때까지 반복합니다. \n",
    "# 예를 들어, 주어진 수가 6이라면 6 → 3 → 10 → 5 → 16 → 8 → 4 → 2 → 1 이 되어 총 8번 만에 1이 됩니다. \n",
    "# 위 작업을 몇 번이나 반복해야 하는지 반환하는 함수, solution을 완성해 주세요. \n",
    "# 단, 주어진 수가 1인 경우에는 0을, 작업을 500번 반복할 때까지 1이 되지 않는다면 –1을 반환해 주세요.\n",
    "\n",
    "def solution(num):\n",
    "    cnt = 0 \n",
    "    while True : \n",
    "        if num == 1 :\n",
    "            break \n",
    "        if num % 2 == 0 : \n",
    "            num //= 2\n",
    "            cnt += 1 \n",
    "        else : \n",
    "            num = num * 3 + 1\n",
    "            cnt += 1\n",
    "        if cnt == 500 :\n",
    "            break \n",
    "\n",
    "    return cnt if cnt != 500 else -1  \n",
    "                "
   ]
  },
  {
   "cell_type": "code",
   "execution_count": 18,
   "metadata": {},
   "outputs": [
    {
     "data": {
      "text/plain": [
       "8"
      ]
     },
     "execution_count": 18,
     "metadata": {},
     "output_type": "execute_result"
    }
   ],
   "source": [
    "solution(6)"
   ]
  },
  {
   "cell_type": "code",
   "execution_count": null,
   "metadata": {},
   "outputs": [],
   "source": []
  }
 ],
 "metadata": {
  "kernelspec": {
   "display_name": "Python 3.9.7 ('base')",
   "language": "python",
   "name": "python3"
  },
  "language_info": {
   "codemirror_mode": {
    "name": "ipython",
    "version": 3
   },
   "file_extension": ".py",
   "mimetype": "text/x-python",
   "name": "python",
   "nbconvert_exporter": "python",
   "pygments_lexer": "ipython3",
   "version": "3.9.7"
  },
  "orig_nbformat": 4,
  "vscode": {
   "interpreter": {
    "hash": "522f452e25d61e127bccbf16995d738252b8ea2853de000579b55c32b7d367b0"
   }
  }
 },
 "nbformat": 4,
 "nbformat_minor": 2
}
