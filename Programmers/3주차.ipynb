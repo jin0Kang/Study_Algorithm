{
  "cells": [
    {
      "cell_type": "code",
      "execution_count": null,
      "metadata": {
        "id": "4YnN_qlkcf0-"
      },
      "outputs": [],
      "source": [
        "# 문자열 내 p,y 개수 \n",
        "# 대문자와 소문자가 섞여있는 문자열 s가 주어집니다. \n",
        "# s에 'p'의 개수와 'y'의 개수를 비교해 같으면 True, 다르면 False를 return 하는 solution를 완성하세요. \n",
        "# 'p', 'y' 모두 하나도 없는 경우는 항상 True를 리턴합니다. 단, 개수를 비교할 때 대문자와 소문자는 구별하지 않습니다.\n",
        "\n",
        "\n",
        "def pycount(s) : \n",
        "  s = s.lower()\n",
        "  if s.count('p') == s.count('y') :\n",
        "    return True  \n",
        "  else : \n",
        "    return False  \n",
        "  "
      ]
    },
    {
      "cell_type": "code",
      "execution_count": null,
      "metadata": {
        "colab": {
          "base_uri": "https://localhost:8080/",
          "height": 35
        },
        "id": "_25eH7bfkVzj",
        "outputId": "20b701a4-0654-46a4-a471-4b0c61c3462b"
      },
      "outputs": [
        {
          "data": {
            "application/vnd.google.colaboratory.intrinsic+json": {
              "type": "string"
            },
            "text/plain": [
              "'pyy'"
            ]
          },
          "execution_count": 4,
          "metadata": {},
          "output_type": "execute_result"
        }
      ],
      "source": [
        "def solution(s):\n",
        "    return s.lower().count(\"p\") == s.lower().count(\"y\")"
      ]
    },
    {
      "cell_type": "code",
      "execution_count": 10,
      "metadata": {
        "id": "3e81cME3kWAG"
      },
      "outputs": [],
      "source": [
        "# 문자열 my_string이 매개변수로 주어질 때,\n",
        "# my_string 안에 있는 숫자만 골라 오름차순 정렬한 리스트를 return 하도록 solution 함수를 작성해보세요.\n",
        "\n",
        "def solution(my_string):\n",
        "  answer = []\n",
        "  for s in my_string:\n",
        "    if s in [str(i) for i in range(10)]:\n",
        "      answer.append(int(s))\n",
        "  return sorted(answer)\n"
      ]
    },
    {
      "cell_type": "code",
      "execution_count": 12,
      "metadata": {
        "id": "zK9DiVEHkWDk"
      },
      "outputs": [],
      "source": [
        "# 다른 사람 풀이 : 정규식 활용 \n",
        "import re\n",
        "\n",
        "def solution(my_string):\n",
        "    return sorted(map(int, (list(re.sub('[^0-9]', '', my_string)))))"
      ]
    },
    {
      "cell_type": "code",
      "execution_count": 20,
      "metadata": {
        "colab": {
          "base_uri": "https://localhost:8080/"
        },
        "id": "1ttoxImrkWH1",
        "outputId": "e0dea2ff-d111-4851-82e7-b5d4e666da2a"
      },
      "outputs": [
        {
          "data": {
            "text/plain": [
              "[1, 2, 2, 3, 9]"
            ]
          },
          "execution_count": 20,
          "metadata": {},
          "output_type": "execute_result"
        }
      ],
      "source": [
        "# 다른 사람 풀이 한 수 배움 : isdigit()\n",
        "def solution(my_string):\n",
        "    return sorted([int(c) for c in my_string if c.isdigit()])"
      ]
    },
    {
      "cell_type": "code",
      "execution_count": 35,
      "metadata": {
        "id": "k0pk_Gv2kWLG"
      },
      "outputs": [],
      "source": [
        "# 가운데 글자 가져오기 \n",
        "# 단어 s의 가운데 글자를 반환하는 함수, solution을 만들어 보세요.\n",
        "# 단어의 길이가 짝수라면 가운데 두글자를 반환하면 됩니다.\n",
        "\n",
        "\n",
        "def solution(s):\n",
        "    length = len(s) // 2 \n",
        "    if len(s) % 2 == 0 : \n",
        "      answer = s[length-1:length+1]\n",
        "    else : answer = s[length]\n",
        "    return answer "
      ]
    },
    {
      "cell_type": "code",
      "execution_count": 36,
      "metadata": {
        "colab": {
          "base_uri": "https://localhost:8080/",
          "height": 36
        },
        "id": "EcgiTBjU_ZMl",
        "outputId": "91f12a58-6e64-47ee-a7b1-0071d9b50ae3"
      },
      "outputs": [
        {
          "data": {
            "application/vnd.google.colaboratory.intrinsic+json": {
              "type": "string"
            },
            "text/plain": [
              "'we'"
            ]
          },
          "execution_count": 36,
          "metadata": {},
          "output_type": "execute_result"
        }
      ],
      "source": [
        "solution(\"qwer\")"
      ]
    },
    {
      "cell_type": "code",
      "execution_count": 4,
      "metadata": {
        "id": "ZPqOEFyNDYAX"
      },
      "outputs": [],
      "source": [
        "# 숫자 문자열과 영단어 \n",
        "# 네오와 프로도가 숫자놀이를 하고 있습니다. \n",
        "#네오가 프로도에게 숫자를 건넬 때 일부 자릿수를 영단어로 바꾼 카드를 건네주면 프로도는 원래 숫자를 찾는 게임입니다.\n",
        "# 다음은 숫자의 일부 자릿수를 영단어로 바꾸는 예시입니다.\n",
        "\n",
        "# 1478 → \"one4seveneight\"\n",
        "# 234567 → \"23four5six7\"\n",
        "# 10203 → \"1zerotwozero3\"\n",
        "# 이렇게 숫자의 일부 자릿수가 영단어로 바뀌어졌거나, \n",
        "# 혹은 바뀌지 않고 그대로인 문자열 s가 매개변수로 주어집니다. \n",
        "# s가 의미하는 원래 숫자를 return 하도록 solution 함수를 완성해주세요.\n",
        "def solution(s):\n",
        "  numbers = ['zero','one','two','three','four','five','six','seven','eight','nine']\n",
        "  for i, number in enumerate(numbers) :\n",
        "    if number in s : \n",
        "      s = s.replace(number, str(i))\n",
        "  return int(s)"
      ]
    },
    {
      "cell_type": "code",
      "execution_count": 5,
      "metadata": {
        "colab": {
          "base_uri": "https://localhost:8080/"
        },
        "id": "06Onv7AeIJpP",
        "outputId": "ba671bdd-75b0-4fd1-ccb1-be67e20b7606"
      },
      "outputs": [
        {
          "data": {
            "text/plain": [
              "123"
            ]
          },
          "execution_count": 5,
          "metadata": {},
          "output_type": "execute_result"
        }
      ],
      "source": [
        "solution(\"123\")"
      ]
    },
    {
      "cell_type": "code",
      "execution_count": 21,
      "metadata": {
        "colab": {
          "base_uri": "https://localhost:8080/"
        },
        "id": "NHEFW-SIKq7B",
        "outputId": "00a8dcfa-8983-4dff-8562-266f73a8cc91"
      },
      "outputs": [
        {
          "data": {
            "text/plain": [
              "['abce', 'abcd', 'cdx']"
            ]
          },
          "execution_count": 21,
          "metadata": {},
          "output_type": "execute_result"
        }
      ],
      "source": [
        "# 문자열로 구성된 리스트 strings와, 정수 n이 주어졌을 때, \n",
        "# 각 문자열의 인덱스 n번째 글자를 기준으로 오름차순 정렬하려 합니다. \n",
        "# 예를 들어 strings가 [\"sun\", \"bed\", \"car\"]이고 \n",
        "# n이 1이면 각 단어의 인덱스 1의 문자 \"u\", \"e\", \"a\"로 strings를 정렬합니다.\n",
        "\n",
        "# - 문제 이해가 안됨. 저거 순서로 정렬한다는게 뭔말임? 과정이 어케됨? \n",
        "test = [\"abce\", \"abcd\", \"cdx\"]\n",
        "sorted(test, key = lambda x: x[2]) # 조건 줘서 정렬하는 문법은 이건데.. "
      ]
    },
    {
      "cell_type": "code",
      "execution_count": 5,
      "metadata": {
        "id": "KfAyC1nwiudx"
      },
      "outputs": [
        {
          "data": {
            "text/plain": [
              "'cdx'"
            ]
          },
          "execution_count": 5,
          "metadata": {},
          "output_type": "execute_result"
        }
      ],
      "source": [
        "# - 문제 이해가 안됨. 저거 순서로 정렬한다는게 뭔말임? 과정이 어케됨? \n",
        "x = [\"abce\", \"abcd\", \"cdx\"]\n",
        "(lambda x: x[2])(x)\n"
      ]
    },
    {
      "cell_type": "code",
      "execution_count": null,
      "metadata": {},
      "outputs": [],
      "source": []
    }
  ],
  "metadata": {
    "colab": {
      "provenance": []
    },
    "kernelspec": {
      "display_name": "Python 3.9.7 ('base')",
      "language": "python",
      "name": "python3"
    },
    "language_info": {
      "codemirror_mode": {
        "name": "ipython",
        "version": 3
      },
      "file_extension": ".py",
      "mimetype": "text/x-python",
      "name": "python",
      "nbconvert_exporter": "python",
      "pygments_lexer": "ipython3",
      "version": "3.9.7"
    },
    "vscode": {
      "interpreter": {
        "hash": "522f452e25d61e127bccbf16995d738252b8ea2853de000579b55c32b7d367b0"
      }
    }
  },
  "nbformat": 4,
  "nbformat_minor": 0
}
