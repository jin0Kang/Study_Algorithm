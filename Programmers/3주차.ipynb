{
  "nbformat": 4,
  "nbformat_minor": 0,
  "metadata": {
    "colab": {
      "provenance": []
    },
    "kernelspec": {
      "name": "python3",
      "display_name": "Python 3"
    },
    "language_info": {
      "name": "python"
    }
  },
  "cells": [
    {
      "cell_type": "code",
      "execution_count": null,
      "metadata": {
        "id": "4YnN_qlkcf0-"
      },
      "outputs": [],
      "source": [
        "# 문자열 내 p,y 개수 \n",
        "# 대문자와 소문자가 섞여있는 문자열 s가 주어집니다. \n",
        "# s에 'p'의 개수와 'y'의 개수를 비교해 같으면 True, 다르면 False를 return 하는 solution를 완성하세요. \n",
        "# 'p', 'y' 모두 하나도 없는 경우는 항상 True를 리턴합니다. 단, 개수를 비교할 때 대문자와 소문자는 구별하지 않습니다.\n",
        "\n",
        "\n",
        "def pycount(s) : \n",
        "  s = s.lower()\n",
        "  if s.count('p') == s.count('y') :\n",
        "    return True  \n",
        "  else : \n",
        "    return False  \n",
        "  "
      ]
    },
    {
      "cell_type": "code",
      "source": [
        "def solution(s):\n",
        "    return s.lower().count(\"p\") == s.lower().count(\"y\")"
      ],
      "metadata": {
        "colab": {
          "base_uri": "https://localhost:8080/",
          "height": 35
        },
        "id": "_25eH7bfkVzj",
        "outputId": "20b701a4-0654-46a4-a471-4b0c61c3462b"
      },
      "execution_count": null,
      "outputs": [
        {
          "output_type": "execute_result",
          "data": {
            "text/plain": [
              "'pyy'"
            ],
            "application/vnd.google.colaboratory.intrinsic+json": {
              "type": "string"
            }
          },
          "metadata": {},
          "execution_count": 4
        }
      ]
    },
    {
      "cell_type": "code",
      "source": [
        "# 문자열 my_string이 매개변수로 주어질 때,\n",
        "# my_string 안에 있는 숫자만 골라 오름차순 정렬한 리스트를 return 하도록 solution 함수를 작성해보세요.\n",
        "\n",
        "def solution(my_string):\n",
        "  answer = []\n",
        "  for s in my_string:\n",
        "    if s in [str(i) for i in range(10)]:\n",
        "      answer.append(int(s))\n",
        "  return sorted(answer)\n"
      ],
      "metadata": {
        "id": "3e81cME3kWAG"
      },
      "execution_count": 10,
      "outputs": []
    },
    {
      "cell_type": "code",
      "source": [
        "# 다른 사람 풀이 : 정규식 활용 \n",
        "import re\n",
        "\n",
        "def solution(my_string):\n",
        "    return sorted(map(int, (list(re.sub('[^0-9]', '', my_string)))))"
      ],
      "metadata": {
        "id": "zK9DiVEHkWDk"
      },
      "execution_count": 12,
      "outputs": []
    },
    {
      "cell_type": "code",
      "source": [
        "# 다른 사람 풀이 한 수 배움 : isdigit()\n",
        "def solution(my_string):\n",
        "    return sorted([int(c) for c in my_string if c.isdigit()])"
      ],
      "metadata": {
        "id": "1ttoxImrkWH1",
        "colab": {
          "base_uri": "https://localhost:8080/"
        },
        "outputId": "e0dea2ff-d111-4851-82e7-b5d4e666da2a"
      },
      "execution_count": 20,
      "outputs": [
        {
          "output_type": "execute_result",
          "data": {
            "text/plain": [
              "[1, 2, 2, 3, 9]"
            ]
          },
          "metadata": {},
          "execution_count": 20
        }
      ]
    },
    {
      "cell_type": "code",
      "source": [
        "# 가운데 글자 가져오기 \n",
        "# 단어 s의 가운데 글자를 반환하는 함수, solution을 만들어 보세요.\n",
        "# 단어의 길이가 짝수라면 가운데 두글자를 반환하면 됩니다.\n",
        "\n",
        "\n",
        "def solution(s):\n",
        "    length = len(s) // 2 \n",
        "    if len(s) % 2 == 0 : \n",
        "      answer = s[length-1:length+1]\n",
        "    else : answer = s[length]\n",
        "    return answer "
      ],
      "metadata": {
        "id": "k0pk_Gv2kWLG"
      },
      "execution_count": 35,
      "outputs": []
    },
    {
      "cell_type": "code",
      "source": [
        "solution(\"qwer\")"
      ],
      "metadata": {
        "colab": {
          "base_uri": "https://localhost:8080/",
          "height": 36
        },
        "id": "EcgiTBjU_ZMl",
        "outputId": "91f12a58-6e64-47ee-a7b1-0071d9b50ae3"
      },
      "execution_count": 36,
      "outputs": [
        {
          "output_type": "execute_result",
          "data": {
            "text/plain": [
              "'we'"
            ],
            "application/vnd.google.colaboratory.intrinsic+json": {
              "type": "string"
            }
          },
          "metadata": {},
          "execution_count": 36
        }
      ]
    },
    {
      "cell_type": "code",
      "source": [
        "# 숫자 문자열과 영단어 \n",
        "# 네오와 프로도가 숫자놀이를 하고 있습니다. \n",
        "#네오가 프로도에게 숫자를 건넬 때 일부 자릿수를 영단어로 바꾼 카드를 건네주면 프로도는 원래 숫자를 찾는 게임입니다.\n",
        "# 다음은 숫자의 일부 자릿수를 영단어로 바꾸는 예시입니다.\n",
        "\n",
        "# 1478 → \"one4seveneight\"\n",
        "# 234567 → \"23four5six7\"\n",
        "# 10203 → \"1zerotwozero3\"\n",
        "# 이렇게 숫자의 일부 자릿수가 영단어로 바뀌어졌거나, \n",
        "# 혹은 바뀌지 않고 그대로인 문자열 s가 매개변수로 주어집니다. \n",
        "# s가 의미하는 원래 숫자를 return 하도록 solution 함수를 완성해주세요.\n",
        "def solution(s):\n",
        "  numbers = ['zero','one','two','three','four','five','six','seven','eight','nine']\n",
        "  for i, number in enumerate(numbers) :\n",
        "    if number in s : \n",
        "      s = s.replace(number, str(i))\n",
        "  return int(s)"
      ],
      "metadata": {
        "id": "ZPqOEFyNDYAX"
      },
      "execution_count": 4,
      "outputs": []
    },
    {
      "cell_type": "code",
      "source": [
        "solution(\"123\")"
      ],
      "metadata": {
        "colab": {
          "base_uri": "https://localhost:8080/"
        },
        "id": "06Onv7AeIJpP",
        "outputId": "ba671bdd-75b0-4fd1-ccb1-be67e20b7606"
      },
      "execution_count": 5,
      "outputs": [
        {
          "output_type": "execute_result",
          "data": {
            "text/plain": [
              "123"
            ]
          },
          "metadata": {},
          "execution_count": 5
        }
      ]
    },
    {
      "cell_type": "code",
      "source": [
        "# 문자열로 구성된 리스트 strings와, 정수 n이 주어졌을 때, \n",
        "# 각 문자열의 인덱스 n번째 글자를 기준으로 오름차순 정렬하려 합니다. \n",
        "# 예를 들어 strings가 [\"sun\", \"bed\", \"car\"]이고 \n",
        "# n이 1이면 각 단어의 인덱스 1의 문자 \"u\", \"e\", \"a\"로 strings를 정렬합니다.\n",
        "\n",
        "# - 문제 이해가 안됨. 저거 순서로 정렬한다는게 뭔말임? 과정이 어케됨? \n",
        "test = [\"abce\", \"abcd\", \"cdx\"]\n",
        "sorted(test, key = lambda x: x[2]) # 조건 줘서 정렬하는 문법은 이건데.. "
      ],
      "metadata": {
        "colab": {
          "base_uri": "https://localhost:8080/"
        },
        "id": "NHEFW-SIKq7B",
        "outputId": "00a8dcfa-8983-4dff-8562-266f73a8cc91"
      },
      "execution_count": 21,
      "outputs": [
        {
          "output_type": "execute_result",
          "data": {
            "text/plain": [
              "['abce', 'abcd', 'cdx']"
            ]
          },
          "metadata": {},
          "execution_count": 21
        }
      ]
    },
    {
      "cell_type": "code",
      "source": [],
      "metadata": {
        "id": "KfAyC1nwiudx"
      },
      "execution_count": null,
      "outputs": []
    }
  ]
}