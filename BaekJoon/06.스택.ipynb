{
 "cells": [
  {
   "cell_type": "markdown",
   "metadata": {},
   "source": [
    "# 스택 "
   ]
  },
  {
   "cell_type": "markdown",
   "metadata": {},
   "source": [
    "### 10828"
   ]
  },
  {
   "cell_type": "code",
   "execution_count": null,
   "metadata": {},
   "outputs": [],
   "source": [
    "# push X: 정수 X를 스택에 넣는 연산이다.\n",
    "# pop: 스택에서 가장 위에 있는 정수를 빼고, 그 수를 출력한다. 만약 스택에 들어있는 정수가 없는 경우에는 -1을 출력한다.\n",
    "# size: 스택에 들어있는 정수의 개수를 출력한다.\n",
    "# empty: 스택이 비어있으면 1, 아니면 0을 출력한다.\n",
    "# top: 스택의 가장 위에 있는 정수를 출력한다. 만약 스택에 들어있는 정수가 없는 경우에는 -1을 출력한다.\n",
    "\n",
    "import sys \n",
    "n = int(sys.stdin.readline()) \n",
    "\n",
    "stack = []\n",
    "for i in range(n):\n",
    "    cmd = sys.stdin.readline().split()\n",
    "    if cmd[0] == 'push':\n",
    "        stack.append(int(cmd[1]))\n",
    "    elif cmd[0] == 'pop':\n",
    "        if len(stack) == 0 :\n",
    "            print(-1)\n",
    "        else : print(stack.pop())\n",
    "    elif cmd[0] == 'size':\n",
    "        print(len(stack))\n",
    "    elif cmd[0] == 'empty':\n",
    "        if len(stack) == 0 :\n",
    "            print(1)\n",
    "        else : print(0)\n",
    "    else : \n",
    "        if len(stack) == 0 :\n",
    "            print(-1)\n",
    "        else : print(stack[-1])\n"
   ]
  },
  {
   "cell_type": "markdown",
   "metadata": {},
   "source": [
    "### 10773"
   ]
  },
  {
   "cell_type": "code",
   "execution_count": 3,
   "metadata": {},
   "outputs": [
    {
     "ename": "KeyboardInterrupt",
     "evalue": "",
     "output_type": "error",
     "traceback": [
      "\u001b[0;31m---------------------------------------------------------------------------\u001b[0m",
      "\u001b[0;31mKeyboardInterrupt\u001b[0m                         Traceback (most recent call last)",
      "\u001b[0;32m/var/folders/bj/dl6k0nyj4ps7vt_khy1t81hm0000gn/T/ipykernel_4761/3838072810.py\u001b[0m in \u001b[0;36m<module>\u001b[0;34m\u001b[0m\n\u001b[1;32m      6\u001b[0m \u001b[0;34m\u001b[0m\u001b[0m\n\u001b[1;32m      7\u001b[0m \u001b[0;32mimport\u001b[0m \u001b[0msys\u001b[0m\u001b[0;34m\u001b[0m\u001b[0;34m\u001b[0m\u001b[0m\n\u001b[0;32m----> 8\u001b[0;31m \u001b[0mn\u001b[0m \u001b[0;34m=\u001b[0m \u001b[0mint\u001b[0m\u001b[0;34m(\u001b[0m\u001b[0msys\u001b[0m\u001b[0;34m.\u001b[0m\u001b[0mstdin\u001b[0m\u001b[0;34m.\u001b[0m\u001b[0mreadline\u001b[0m\u001b[0;34m(\u001b[0m\u001b[0;34m)\u001b[0m\u001b[0;34m)\u001b[0m\u001b[0;34m\u001b[0m\u001b[0;34m\u001b[0m\u001b[0m\n\u001b[0m\u001b[1;32m      9\u001b[0m \u001b[0mstack\u001b[0m \u001b[0;34m=\u001b[0m \u001b[0;34m[\u001b[0m\u001b[0;34m]\u001b[0m\u001b[0;34m\u001b[0m\u001b[0;34m\u001b[0m\u001b[0m\n\u001b[1;32m     10\u001b[0m \u001b[0;32mfor\u001b[0m \u001b[0mi\u001b[0m \u001b[0;32min\u001b[0m \u001b[0mrange\u001b[0m\u001b[0;34m(\u001b[0m\u001b[0mn\u001b[0m\u001b[0;34m)\u001b[0m\u001b[0;34m:\u001b[0m\u001b[0;34m\u001b[0m\u001b[0;34m\u001b[0m\u001b[0m\n",
      "\u001b[0;31mKeyboardInterrupt\u001b[0m: "
     ]
    }
   ],
   "source": [
    "# 첫 번째 줄에 정수 K가 주어진다. (1 ≤ K ≤ 100,000)\n",
    "\n",
    "# 이후 K개의 줄에 정수가 1개씩 주어진다. 정수는 0에서 1,000,000 사이의 값을 가지며, 정수가 \"0\" 일 경우에는 가장 최근에 쓴 수를 지우고, 아닐 경우 해당 수를 쓴다.\n",
    "\n",
    "# 정수가 \"0\"일 경우에 지울 수 있는 수가 있음을 보장할 수 있다.\n",
    "\n",
    "import sys\n",
    "n = int(sys.stdin.readline())\n",
    "stack = []\n",
    "for i in range(n):\n",
    "    num = int(sys.stdin.readline())\n",
    "    if num == 0 : \n",
    "        stack.pop()\n",
    "    else : stack.append(num)\n",
    "\n",
    "print(sum(stack))\n"
   ]
  },
  {
   "cell_type": "markdown",
   "metadata": {},
   "source": [
    "### 9012"
   ]
  },
  {
   "cell_type": "code",
   "execution_count": null,
   "metadata": {},
   "outputs": [],
   "source": [
    "t = int(input())\n",
    "for _ in range(t):\n",
    "    stk = []\n",
    "    s = input()\n",
    "    isVPS = True\n",
    "\n",
    "    for ch in s: \n",
    "        if ch == '(': \n",
    "            stk.append('(') # 괄호 열어 \n",
    "        if ch == ')': \n",
    "            if stk: \n",
    "                stk.pop() # 여는 괄호 빼내서 () 만들어 줬음 \n",
    "            elif not stk: # 꺼낼게 없으면 열지 않은 괄호를 닫는 것 -> not VPS \n",
    "                isVPS = False\n",
    "                break # 반복문 끝내기 \n",
    "    # 반복문 끝까지 다 돌고 \n",
    "    if not stk and isVPS: # 스택에 남은 거 없고, VPS도 True \n",
    "        print('YES')\n",
    "    elif stk or not isVPS: # 아니면 No \n",
    "        print('NO')"
   ]
  },
  {
   "cell_type": "markdown",
   "metadata": {},
   "source": [
    "### 4949"
   ]
  },
  {
   "cell_type": "code",
   "execution_count": null,
   "metadata": {},
   "outputs": [],
   "source": [
    "while True:\n",
    "    s = input()\n",
    "    if s == '.':\n",
    "        break\n",
    "    stk = []\n",
    "    temp = True\n",
    "    for i in s:\n",
    "        if i == '(' or i == '[': # 여는 괄호는 append \n",
    "            stk.append(i)\n",
    "        elif i == ')': # 닫는 소괄호면 \n",
    "            if not stk or stk[-1] == '[': # 없거나 짝 안맞으면 끝  \n",
    "                temp = False \n",
    "                break\n",
    "            elif stk[-1] == '(': # 짝 맞을 때 꺼내주기 \n",
    "                stk.pop()\n",
    "        elif i == ']':\n",
    "            if not stk or stk[-1] == '(':\n",
    "                temp = False\n",
    "                break\n",
    "            elif stk[-1] == '[':\n",
    "                stk.pop()\n",
    "    if temp and not stk:\n",
    "        print('yes')\n",
    "    else:\n",
    "        print('no')"
   ]
  },
  {
   "cell_type": "code",
   "execution_count": null,
   "metadata": {},
   "outputs": [],
   "source": []
  },
  {
   "cell_type": "code",
   "execution_count": null,
   "metadata": {},
   "outputs": [],
   "source": []
  },
  {
   "cell_type": "code",
   "execution_count": null,
   "metadata": {},
   "outputs": [],
   "source": []
  },
  {
   "cell_type": "code",
   "execution_count": null,
   "metadata": {},
   "outputs": [],
   "source": []
  }
 ],
 "metadata": {
  "kernelspec": {
   "display_name": "Python 3.9.7 ('base')",
   "language": "python",
   "name": "python3"
  },
  "language_info": {
   "codemirror_mode": {
    "name": "ipython",
    "version": 3
   },
   "file_extension": ".py",
   "mimetype": "text/x-python",
   "name": "python",
   "nbconvert_exporter": "python",
   "pygments_lexer": "ipython3",
   "version": "3.9.7"
  },
  "orig_nbformat": 4,
  "vscode": {
   "interpreter": {
    "hash": "522f452e25d61e127bccbf16995d738252b8ea2853de000579b55c32b7d367b0"
   }
  }
 },
 "nbformat": 4,
 "nbformat_minor": 2
}
