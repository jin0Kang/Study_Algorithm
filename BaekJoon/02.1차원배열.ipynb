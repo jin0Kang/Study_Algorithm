{
 "cells": [
  {
   "cell_type": "markdown",
   "metadata": {},
   "source": [
    "## 1차원 배열 "
   ]
  },
  {
   "cell_type": "markdown",
   "metadata": {},
   "source": [
    "### 10818 : 최대 최소 \n"
   ]
  },
  {
   "cell_type": "code",
   "execution_count": null,
   "metadata": {},
   "outputs": [],
   "source": [
    "count = int(input())\n",
    "num_list = list(map(int, input().split()))\n",
    "print(min(num_list), max(num_list))"
   ]
  },
  {
   "cell_type": "markdown",
   "metadata": {},
   "source": [
    "### 2562: 최댓값"
   ]
  },
  {
   "cell_type": "code",
   "execution_count": null,
   "metadata": {},
   "outputs": [],
   "source": [
    "num_list = []\n",
    "for i in range(9):\n",
    "    num = int(input())\n",
    "    num_list.append(num)\n",
    "print(max(num_list))\n",
    "for i in range(9):\n",
    "    if num_list[i] == max(num_list):\n",
    "        print(i+1)"
   ]
  },
  {
   "cell_type": "markdown",
   "metadata": {},
   "source": [
    "### 3052 : 나머지 "
   ]
  },
  {
   "cell_type": "code",
   "execution_count": null,
   "metadata": {},
   "outputs": [],
   "source": [
    "num_list = []\n",
    "for i in range(10):\n",
    "    num = int(input())\n",
    "    num_list.append(num % 42)\n",
    "print(len(set(num_list)))"
   ]
  },
  {
   "cell_type": "markdown",
   "metadata": {},
   "source": [
    "### 1546 : 평균 "
   ]
  },
  {
   "cell_type": "code",
   "execution_count": null,
   "metadata": {},
   "outputs": [],
   "source": [
    "count = int(input())\n",
    "scores = list(map(int, input().split()))\n",
    "total = 0 \n",
    "m = max(scores)\n",
    "for i in range(count) :\n",
    "    scores[i] = (scores[i] / m) * 100\n",
    "    total += scores[i]\n",
    "print(total / count)"
   ]
  },
  {
   "cell_type": "markdown",
   "metadata": {},
   "source": [
    "### 8958 : ox 퀴즈"
   ]
  },
  {
   "cell_type": "code",
   "execution_count": null,
   "metadata": {},
   "outputs": [],
   "source": [
    "# \"OOXXOXXOOO\"의 점수는 1+2+0+0+1+0+0+1+2+3 = 10점이다.\n",
    "# 입력 \n",
    "# 3\n",
    "# OOXXOXXOOO\n",
    "# OOXXOOXXOO\n",
    "# OXOXOXOXOXOXOX\n",
    "# 출력 \n",
    "# 10\n",
    "# 9\n",
    "# 7\n",
    "count = int(input())\n",
    "for i in range(count):\n",
    "    score = 0\n",
    "    sum = 0 \n",
    "    quiz = input()\n",
    "    for x in quiz :\n",
    "        if x == \"O\" :\n",
    "            score += 1 \n",
    "        else : score = 0\n",
    "        sum += score\n",
    "    print(sum)\n"
   ]
  },
  {
   "cell_type": "markdown",
   "metadata": {},
   "source": [
    "### 4344 : 평균은 넘겠지 "
   ]
  },
  {
   "cell_type": "code",
   "execution_count": null,
   "metadata": {},
   "outputs": [],
   "source": [
    "# 입력 \n",
    "# 3\n",
    "# 5 50 50 70 80 100\n",
    "# 7 100 95 90 80 70 60 50\n",
    "# 3 70 90 80\n",
    "# 출력\n",
    "# 40.000%\n",
    "# 57.143%\n",
    "# 33.333%\n",
    "\n",
    "test = int(input())\n",
    "for i in range(test):\n",
    "    count = 0 \n",
    "    total = 0  \n",
    "    input_list = []\n",
    "    input_list = list(map(int, input().split()))\n",
    "    student = input_list[0]\n",
    "    scores = input_list[1:]\n",
    "    for score in scores :\n",
    "        total += score \n",
    "        avg = total / student \n",
    "    for score in scores :\n",
    "        if score > avg:\n",
    "            count+=1 \n",
    "    print(\"%.3f%%\"%((count / student)*100))\n",
    "            \n"
   ]
  },
  {
   "cell_type": "code",
   "execution_count": null,
   "metadata": {},
   "outputs": [],
   "source": []
  }
 ],
 "metadata": {
  "kernelspec": {
   "display_name": "Python 3.9.7 ('base')",
   "language": "python",
   "name": "python3"
  },
  "language_info": {
   "codemirror_mode": {
    "name": "ipython",
    "version": 3
   },
   "file_extension": ".py",
   "mimetype": "text/x-python",
   "name": "python",
   "nbconvert_exporter": "python",
   "pygments_lexer": "ipython3",
   "version": "3.9.7"
  },
  "orig_nbformat": 4,
  "vscode": {
   "interpreter": {
    "hash": "522f452e25d61e127bccbf16995d738252b8ea2853de000579b55c32b7d367b0"
   }
  }
 },
 "nbformat": 4,
 "nbformat_minor": 2
}
