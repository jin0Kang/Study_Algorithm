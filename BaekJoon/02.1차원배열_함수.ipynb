{
 "cells": [
  {
   "cell_type": "markdown",
   "metadata": {},
   "source": [
    "## 1차원 배열 "
   ]
  },
  {
   "cell_type": "code",
   "execution_count": null,
   "metadata": {},
   "outputs": [],
   "source": [
    "#.아.. 날림 그냥 새로 하겠음.. \n",
    "#1546 \n",
    "# 평균 조작 문제 \n",
    "count = int(input())\n",
    "scores = list(map(int, input().split()))\n",
    "total = 0 \n",
    "m = max(scores)\n",
    "for i in range(count) :\n",
    "    scores[i] = (scores[i] / m) * 100\n",
    "    total += scores[i]\n",
    "print(total / count)"
   ]
  },
  {
   "cell_type": "code",
   "execution_count": null,
   "metadata": {},
   "outputs": [],
   "source": [
    "# 8958\n",
    "# ox 퀴즈 점수 내기 \n",
    "# \"OOXXOXXOOO\"의 점수는 1+2+0+0+1+0+0+1+2+3 = 10점이다.\n",
    "# 입력 \n",
    "# 3\n",
    "# OOXXOXXOOO\n",
    "# OOXXOOXXOO\n",
    "# OXOXOXOXOXOXOX\n",
    "# 출력 \n",
    "# 10\n",
    "# 9\n",
    "# 7\n",
    "count = int(input())\n",
    "for i in range(count):\n",
    "    score = 0\n",
    "    sum = 0 \n",
    "    quiz = input()\n",
    "    for x in quiz :\n",
    "        if x == \"O\" :\n",
    "            score += 1 \n",
    "        else : score = 0\n",
    "        sum += score\n",
    "    print(sum)\n"
   ]
  },
  {
   "cell_type": "code",
   "execution_count": null,
   "metadata": {},
   "outputs": [],
   "source": [
    "# 4344\n",
    "# 평균이 넘는 학생 비율 출력 \n",
    "# 입력 \n",
    "# 3\n",
    "# 5 50 50 70 80 100\n",
    "# 7 100 95 90 80 70 60 50\n",
    "# 3 70 90 80\n",
    "# 출력\n",
    "# 40.000%\n",
    "# 57.143%\n",
    "# 33.333%\n",
    "\n",
    "test = int(input())\n",
    "for i in range(test):\n",
    "    count = 0 \n",
    "    total = 0  \n",
    "    input_list = []\n",
    "    input_list = list(map(int, input().split()))\n",
    "    student = input_list[0]\n",
    "    scores = input_list[1:]\n",
    "    for score in scores :\n",
    "        total += score \n",
    "        avg = total / student \n",
    "    for score in scores :\n",
    "        if score > avg:\n",
    "            count+=1 \n",
    "    print(\"%.3f%%\"%((count / student)*100))\n",
    "            \n"
   ]
  },
  {
   "cell_type": "markdown",
   "metadata": {},
   "source": [
    "## 함수"
   ]
  },
  {
   "cell_type": "code",
   "execution_count": null,
   "metadata": {},
   "outputs": [],
   "source": [
    "# 15596\n",
    "# def solve(a: list) -> int\n",
    "#a: 합을 구해야 하는 정수 n개가 저장되어 있는 리스트 (0 ≤ a[i] ≤ 1,000,000, 1 ≤ n ≤ 3,000,000)\n",
    "# 리턴값: a에 포함되어 있는 정수 n개의 합 (정수)\n",
    "\n",
    "def solve(list):\n",
    "    total = 0\n",
    "    for i in list : \n",
    "        total += i \n",
    "    return total  \n",
    "solve([1,2,3])"
   ]
  },
  {
   "cell_type": "code",
   "execution_count": null,
   "metadata": {},
   "outputs": [],
   "source": [
    "# 4673\n",
    "# 뿌앵 모르겟어 "
   ]
  },
  {
   "cell_type": "code",
   "execution_count": null,
   "metadata": {},
   "outputs": [],
   "source": [
    "# 1065 \n",
    "# 한수가 뭐임 "
   ]
  },
  {
   "cell_type": "code",
   "execution_count": null,
   "metadata": {},
   "outputs": [],
   "source": []
  }
 ],
 "metadata": {
  "kernelspec": {
   "display_name": "Python 3.9.7 ('base')",
   "language": "python",
   "name": "python3"
  },
  "language_info": {
   "codemirror_mode": {
    "name": "ipython",
    "version": 3
   },
   "file_extension": ".py",
   "mimetype": "text/x-python",
   "name": "python",
   "nbconvert_exporter": "python",
   "pygments_lexer": "ipython3",
   "version": "3.9.7"
  },
  "orig_nbformat": 4,
  "vscode": {
   "interpreter": {
    "hash": "522f452e25d61e127bccbf16995d738252b8ea2853de000579b55c32b7d367b0"
   }
  }
 },
 "nbformat": 4,
 "nbformat_minor": 2
}
