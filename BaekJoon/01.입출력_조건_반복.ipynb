{
 "cells": [
  {
   "cell_type": "markdown",
   "metadata": {},
   "source": [
    "# 백준 단계별 문제 \n",
    "## 1) 입출력과 사칙연산 "
   ]
  },
  {
   "cell_type": "code",
   "execution_count": 4,
   "metadata": {},
   "outputs": [
    {
     "name": "stdout",
     "output_type": "stream",
     "text": [
      "Hello Wolrd!\n",
      "강한친구 대한육군\n",
      "강한친구 대한육군\n"
     ]
    }
   ],
   "source": [
    "# 문제 1\n",
    "print(\"Hello Wolrd!\")\n",
    "# 문제 2\n",
    "print(\"강한친구 대한육군\\n강한친구 대한육군\")"
   ]
  },
  {
   "cell_type": "code",
   "execution_count": 8,
   "metadata": {},
   "outputs": [
    {
     "name": "stdout",
     "output_type": "stream",
     "text": [
      "3\n"
     ]
    }
   ],
   "source": [
    "# 문제: 두 정수 A와 B를 입력받은 다음, A+B를 출력하는 프로그램을 작성하시오.\n",
    "A, B = input().split()\n",
    "print(int(A) + int(B)) "
   ]
  },
  {
   "cell_type": "code",
   "execution_count": 13,
   "metadata": {},
   "outputs": [
    {
     "name": "stdout",
     "output_type": "stream",
     "text": [
      "10\n",
      "4\n",
      "21\n",
      "2\n",
      "1\n"
     ]
    }
   ],
   "source": [
    "# 문제: 두 자연수 A와 B가 주어진다. 이때, A+B, A-B, A*B, A/B(몫), A%B(나머지)를 출력하는 프로그램을 작성하시오. \n",
    "A, B = input().split()\n",
    "print(int(A) + int(B)) \n",
    "print(int(A) - int(B)) \n",
    "print(int(A) * int(B)) \n",
    "print(int(A) // int(B)) \n",
    "print(int(A) % int(B)) "
   ]
  },
  {
   "cell_type": "code",
   "execution_count": 14,
   "metadata": {},
   "outputs": [
    {
     "name": "stdout",
     "output_type": "stream",
     "text": [
      "joonas??!\n"
     ]
    }
   ],
   "source": [
    "# 문제 \n",
    "id = input()\n",
    "print(id+\"??!\")"
   ]
  },
  {
   "cell_type": "code",
   "execution_count": 15,
   "metadata": {},
   "outputs": [
    {
     "name": "stdout",
     "output_type": "stream",
     "text": [
      "2557\n"
     ]
    }
   ],
   "source": [
    "# 문제 \n",
    "year = input()\n",
    "print(int(year) - 543)"
   ]
  },
  {
   "cell_type": "markdown",
   "metadata": {},
   "source": [
    "## 2. 조건문"
   ]
  },
  {
   "cell_type": "code",
   "execution_count": 16,
   "metadata": {},
   "outputs": [
    {
     "name": "stdout",
     "output_type": "stream",
     "text": [
      "A\n"
     ]
    }
   ],
   "source": [
    "# 시험 점수를 입력받아 90 ~ 100점은 A, 80 ~ 89점은 B, 70 ~ 79점은 C, 60 ~ 69점은 D, 나머지 점수는 F를 출력하는 프로그램을 작성하시오.\n",
    "\n",
    "score = int(input())\n",
    "if score >= 90 : \n",
    "    grade = 'A'\n",
    "elif score >= 80 :\n",
    "    grade = \"B\"\n",
    "elif score >= 70 : \n",
    "    grade = \"C\" \n",
    "elif score >= 60 : \n",
    "    grade = \"D\"\n",
    "else : grade = \"F\" \n",
    "\n",
    "print(grade)"
   ]
  },
  {
   "cell_type": "code",
   "execution_count": 24,
   "metadata": {},
   "outputs": [
    {
     "name": "stdout",
     "output_type": "stream",
     "text": [
      "1\n"
     ]
    }
   ],
   "source": [
    "# 연도가 주어졌을 때, 윤년이면 1, 아니면 0을 출력하는 프로그램을 작성하시오. 윤년은 연도가 4의 배수이면서, 100의 배수가 아닐 때 또는 400의 배수일 때이다.\n",
    "\n",
    "year = int(input())\n",
    "\n",
    "if (year % 400 == 0) | (year % 4 == 0) & (year % 100 != 0) :\n",
    "    print(1)\n",
    "else : print(0)\n",
    " \n"
   ]
  },
  {
   "cell_type": "code",
   "execution_count": 28,
   "metadata": {},
   "outputs": [
    {
     "name": "stdout",
     "output_type": "stream",
     "text": [
      "4\n"
     ]
    }
   ],
   "source": [
    "# 사분면 알아내기 \n",
    "x = int(input())\n",
    "y = int(input())\n",
    "\n",
    "if (x > 0) & (y > 0) : \n",
    "    print(\"1\")\n",
    "elif (x < 0) & (y > 0) : \n",
    "    print(\"2\")\n",
    "elif (x < 0) & (y < 0) : \n",
    "    print(\"3\")\n",
    "else : print(\"4\")"
   ]
  },
  {
   "cell_type": "code",
   "execution_count": 34,
   "metadata": {},
   "outputs": [
    {
     "name": "stdout",
     "output_type": "stream",
     "text": [
      "0 13\n"
     ]
    }
   ],
   "source": [
    "# 2525) 통닭구이 오븐 현재 시각 -> 끝나는 시각 \n",
    "h, m = input().split()\n",
    "time = int(input()) \n",
    "\n",
    "hour = int(h) + (time // 60)\n",
    "min = int(m) + (time % 60)\n",
    "\n",
    "if min >= 60 : \n",
    "    hour += (min // 60)\n",
    "    min = (min % 60)\n",
    "\n",
    "if hour >= 24 : \n",
    "    hour = (hour - 24)\n",
    "print(hour, min)\n",
    "\n",
    "\n",
    "\n",
    "\n"
   ]
  },
  {
   "cell_type": "code",
   "execution_count": 39,
   "metadata": {},
   "outputs": [
    {
     "name": "stdout",
     "output_type": "stream",
     "text": [
      "12000\n"
     ]
    }
   ],
   "source": [
    "# 2480 : 주사위 상금 \n",
    "# 같은 눈이 3개가 나오면 10,000원+(같은 눈)×1,000원의 상금을 받게 된다. \n",
    "# 같은 눈이 2개만 나오는 경우에는 1,000원+(같은 눈)×100원의 상금을 받게 된다. \n",
    "# 모두 다른 눈이 나오는 경우에는 (그 중 가장 큰 눈)×100원의 상금을 받게 된다. \n",
    "\n",
    "a, b, c = input().split()\n",
    "a = int(a)\n",
    "b = int(b)\n",
    "c = int(c)\n",
    "listData = [a,b,c]\n",
    "\n",
    "if a == b == c :\n",
    "    prize = 10000 + (a * 1000)\n",
    "elif (a == b) : prize = 1000 + (a*100) \n",
    "elif (b == c) : prize = 1000 + (b*100)\n",
    "elif (a == c): prize = 1000 + (c*100)\n",
    "else : prize = max(listData) * 100 \n",
    "\n",
    "print(prize)"
   ]
  },
  {
   "cell_type": "markdown",
   "metadata": {},
   "source": [
    "## 3. 반복문"
   ]
  },
  {
   "cell_type": "code",
   "execution_count": 42,
   "metadata": {},
   "outputs": [
    {
     "name": "stdout",
     "output_type": "stream",
     "text": [
      "2 * 1 = 2\n",
      "2 * 2 = 4\n",
      "2 * 3 = 6\n",
      "2 * 4 = 8\n",
      "2 * 5 = 10\n",
      "2 * 6 = 12\n",
      "2 * 7 = 14\n",
      "2 * 8 = 16\n",
      "2 * 9 = 18\n"
     ]
    }
   ],
   "source": [
    "# 2793 : 구구단 출력 \n",
    "dan = int(input())\n",
    "\n",
    "for i in range(1,10):\n",
    "    print(\"%s * %d = %d\"%(dan, i, dan*i))"
   ]
  },
  {
   "cell_type": "code",
   "execution_count": 43,
   "metadata": {},
   "outputs": [
    {
     "name": "stdout",
     "output_type": "stream",
     "text": [
      "6\n"
     ]
    }
   ],
   "source": [
    "# 8393 : n이 주어졌을 때, 1부터 n까지 합을 구하는 프로그램을 작성하시오.\n",
    "\n",
    "n = int(input())\n",
    "total = 0 \n",
    "for i in range(n+1):\n",
    "    total += i\n",
    "print(total)\n",
    " "
   ]
  },
  {
   "cell_type": "code",
   "execution_count": 46,
   "metadata": {},
   "outputs": [
    {
     "name": "stdout",
     "output_type": "stream",
     "text": [
      "No\n"
     ]
    }
   ],
   "source": [
    "# 25304 \n",
    "bill = int(input())\n",
    "count = int(input())\n",
    "total = 0 \n",
    "for i in range(count):\n",
    "    price, amount = input().split()\n",
    "    total += int(price) * int(amount)\n",
    "if total == bill :\n",
    "    print(\"Yes\")\n",
    "else : print(\"No\")"
   ]
  },
  {
   "cell_type": "code",
   "execution_count": null,
   "metadata": {},
   "outputs": [],
   "source": [
    "# 11022 \n",
    "# 5\n",
    "# 1 1\n",
    "# 2 3\n",
    "# 3 4\n",
    "# 9 8\n",
    "# 5 2\n",
    "\n",
    "# Case #1: 1 + 1 = 2\n",
    "# Case #2: 2 + 3 = 5\n",
    "# Case #3: 3 + 4 = 7\n",
    "# Case #4: 9 + 8 = 17\n",
    "# Case #5: 5 + 2 = 7\n",
    "\n",
    "count = int(input())\n",
    "\n",
    "for i in range(count):\n",
    "    a,b = map(int, input().split())\n",
    "    print(\"Case #%d: %d + %d = %d\"%(i+1, a, b, a+b))"
   ]
  },
  {
   "cell_type": "code",
   "execution_count": 4,
   "metadata": {},
   "outputs": [
    {
     "name": "stdout",
     "output_type": "stream",
     "text": [
      "     *\n",
      "    **\n",
      "   ***\n",
      "  ****\n",
      " *****\n"
     ]
    }
   ],
   "source": [
    "# 2439 \n",
    "# 입력 5\n",
    "#     *\n",
    "#    **\n",
    "#   ***\n",
    "#  ****\n",
    "# *****\n",
    "\n",
    "num = int(input())\n",
    "for i in range(num):\n",
    "    print(\" \"*(num-1-i)+\"*\"*(i+1))"
   ]
  },
  {
   "cell_type": "code",
   "execution_count": 11,
   "metadata": {},
   "outputs": [
    {
     "name": "stdout",
     "output_type": "stream",
     "text": [
      "1 4 2 3 "
     ]
    }
   ],
   "source": [
    "#10871\n",
    "# 정수 N개로 이루어진 수열 A와 정수 X가 주어진다. 이때, A에서 X보다 작은 수를 모두 출력하는 프로그램을 작성하시오.\n",
    "# 입력 \n",
    "# 10 5\n",
    "# 1 10 4 9 2 3 8 5 7 6\n",
    "# 출력 \n",
    "# 1 4 2 3\n",
    "count, num  = map(int, input().split())\n",
    "a = list(map(int, input().split()))\n",
    "for i in a:\n",
    "    if i < num : \n",
    "        print(i, end = \" \")"
   ]
  },
  {
   "cell_type": "code",
   "execution_count": 14,
   "metadata": {},
   "outputs": [
    {
     "name": "stdout",
     "output_type": "stream",
     "text": [
      "2\n",
      "5\n",
      "7\n",
      "17\n"
     ]
    }
   ],
   "source": [
    "# 10952 \n",
    "#  0 0 이 들어올때까지 계속 하기 \n",
    "# 입력 \n",
    "# 1 1\n",
    "# 2 3\n",
    "# 3 4\n",
    "# 9 8\n",
    "# 5 2\n",
    "# 0 0\n",
    "# 출력 \n",
    "# 2\n",
    "# 5\n",
    "# 7\n",
    "# 17\n",
    "# 7\n",
    "\n",
    "while(True):\n",
    "    a, b = map(int, input().split())\n",
    "    if a+b == 0 :\n",
    "        break    \n",
    "    print(a+b)\n",
    "\n"
   ]
  },
  {
   "cell_type": "code",
   "execution_count": 16,
   "metadata": {},
   "outputs": [
    {
     "name": "stdout",
     "output_type": "stream",
     "text": [
      "2\n",
      "7\n"
     ]
    }
   ],
   "source": [
    "# 10951\n",
    "#  입력 안할 때까지 계속 하기\n",
    "\n",
    "while True : \n",
    "    try:\n",
    "        a, b = map(int, input().split())\n",
    "        print(a+b)\n",
    "    except : break"
   ]
  },
  {
   "cell_type": "code",
   "execution_count": 20,
   "metadata": {},
   "outputs": [
    {
     "name": "stdout",
     "output_type": "stream",
     "text": [
      "4\n"
     ]
    }
   ],
   "source": [
    "# 1110 \n",
    "cycle = 0 \n",
    "num = int(input())\n",
    "num_origin = num\n",
    "\n",
    "while True : \n",
    "    a = num // 10 \n",
    "    b = num % 10 \n",
    "    num = (b*10) + ((a+b)%10)\n",
    "    cycle += 1\n",
    "    if num == num_origin : \n",
    "        break\n",
    "print(cycle)\n"
   ]
  },
  {
   "cell_type": "code",
   "execution_count": null,
   "metadata": {},
   "outputs": [],
   "source": []
  },
  {
   "cell_type": "code",
   "execution_count": null,
   "metadata": {},
   "outputs": [],
   "source": []
  },
  {
   "cell_type": "code",
   "execution_count": null,
   "metadata": {},
   "outputs": [],
   "source": [
    "# 첫째 줄에 다음 세 가지 중 하나를 출력한다.\n",
    "\n",
    "# A가 B보다 큰 경우에는 '>'를 출력한다.\n",
    "# A가 B보다 작은 경우에는 '<'를 출력한다.\n",
    "# A와 B가 같은 경우에는 '=='를 출력한다.\n",
    "\n",
    "# 입력\n",
    "# 1 2\n",
    "# 출력 \n",
    "# <\n"
   ]
  },
  {
   "cell_type": "code",
   "execution_count": null,
   "metadata": {},
   "outputs": [],
   "source": [
    "\n",
    "# 원래 설정되어 있는 알람을 45분 앞서는 시간으로 바꾸는 것이다.\n",
    "# 첫째 줄에 두 정수 H와 M이 주어진다. (0 ≤ H ≤ 23, 0 ≤ M ≤ 59) 그리고 이것은 현재 상근이가 설정한 놓은 알람 시간 H시 M분을 의미한다.\n",
    "# 입력 시간은 24시간 표현을 사용한다. 24시간 표현에서 하루의 시작은 0:0(자정)이고, 끝은 23:59(다음날 자정 1분 전)이다. 시간을 나타낼 때, 불필요한 0은 사용하지 않는다.\n",
    "\n",
    "# 입력\n",
    "# 10 10\n",
    "# 0 30\n",
    "# 23 40\n",
    "# 출력 \n",
    "# 9 25\n",
    "# 23 45\n",
    "# 22 55\n"
   ]
  },
  {
   "cell_type": "code",
   "execution_count": null,
   "metadata": {},
   "outputs": [],
   "source": [
    "# 두 정수 A와 B를 입력받은 다음, A+B를 출력하는 프로그램을 작성하시오.\n",
    "# 첫째 줄에 테스트 케이스의 개수 T가 주어진다.\n",
    "\n",
    "# 입력\n",
    "# 5\n",
    "# 1 1\n",
    "# 2 3\n",
    "# 3 4\n",
    "# 9 8\n",
    "# 5 2\n",
    "# 출력\n",
    "# 2\n",
    "# 5\n",
    "# 7\n",
    "# 17\n",
    "# 7"
   ]
  },
  {
   "cell_type": "code",
   "execution_count": null,
   "metadata": {},
   "outputs": [],
   "source": [
    "# # 더하기를 더 아름답게 \n",
    "\n",
    "# 입력 \n",
    "# 5\n",
    "# 1 1\n",
    "# 2 3\n",
    "# 3 4\n",
    "# 9 8\n",
    "# 5 2\n",
    "\n",
    "# 출력\n",
    "# Case #1: 2\n",
    "# Case #2: 5\n",
    "# Case #3: 7\n",
    "# Case #4: 17\n",
    "# Case #5: 7"
   ]
  },
  {
   "cell_type": "code",
   "execution_count": null,
   "metadata": {},
   "outputs": [],
   "source": [
    "# 첫째 줄에는 별 1개, 둘째 줄에는 별 2개, N번째 줄에는 별 N개를 찍는 문제\n",
    "\n",
    "# 5\n",
    "# *\n",
    "# **\n",
    "# ***\n",
    "# ****\n",
    "# *****"
   ]
  }
 ],
 "metadata": {
  "kernelspec": {
   "display_name": "Python 3.9.7 ('base')",
   "language": "python",
   "name": "python3"
  },
  "language_info": {
   "codemirror_mode": {
    "name": "ipython",
    "version": 3
   },
   "file_extension": ".py",
   "mimetype": "text/x-python",
   "name": "python",
   "nbconvert_exporter": "python",
   "pygments_lexer": "ipython3",
   "version": "3.9.7"
  },
  "orig_nbformat": 4,
  "vscode": {
   "interpreter": {
    "hash": "522f452e25d61e127bccbf16995d738252b8ea2853de000579b55c32b7d367b0"
   }
  }
 },
 "nbformat": 4,
 "nbformat_minor": 2
}
