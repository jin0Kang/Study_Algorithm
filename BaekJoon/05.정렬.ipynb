{
 "cells": [
  {
   "cell_type": "markdown",
   "metadata": {},
   "source": [
    "# 정렬 "
   ]
  },
  {
   "cell_type": "markdown",
   "metadata": {},
   "source": [
    "### 2750 "
   ]
  },
  {
   "cell_type": "code",
   "execution_count": 3,
   "metadata": {},
   "outputs": [
    {
     "name": "stdout",
     "output_type": "stream",
     "text": [
      "2\n",
      "3\n",
      "4\n",
      "5\n",
      "5\n"
     ]
    }
   ],
   "source": [
    "# 2750 \n",
    "# N개의 수가 주어졌을 때, 이를 오름차순으로 정렬하는 프로그램을 작성하시오.\n",
    "\n",
    "# 입력 \n",
    "# 5 : 수의 개수 \n",
    "# 5\n",
    "# 2\n",
    "# 3\n",
    "# 4\n",
    "# 1\n",
    "\n",
    "# 출력 \n",
    "# 1\n",
    "# 2\n",
    "# 3\n",
    "# 4\n",
    "# 5\n",
    "\n",
    "\n",
    "num = input()\n",
    "num_list = []\n",
    "for _ in range(int(num)) :\n",
    "    input_num = input()\n",
    "    num_list.append(int(input_num))\n",
    "for n in sorted(num_list): \n",
    "    print(n)\n"
   ]
  },
  {
   "cell_type": "markdown",
   "metadata": {},
   "source": [
    "### 2751"
   ]
  },
  {
   "cell_type": "code",
   "execution_count": 4,
   "metadata": {},
   "outputs": [
    {
     "name": "stdout",
     "output_type": "stream",
     "text": [
      "1\n",
      "2\n",
      "3\n",
      "4\n",
      "5\n"
     ]
    }
   ],
   "source": [
    "# 2751\n",
    "# N개의 수가 주어졌을 때, 이를 오름차순으로 정렬하는 프로그램을 작성하시오.\n",
    "# - 시간초과 때문에 input() 쓸 수 없을 때 : sys.stdin.readline()\n",
    "\n",
    "import sys \n",
    "\n",
    "num = input()\n",
    "num_list = []\n",
    "for _ in range(int(num)) :\n",
    "    num_list.append(int(sys.stdin.readline()))\n",
    "num_list.sort()\n",
    "for n in num_list: \n",
    "    print(n)"
   ]
  },
  {
   "cell_type": "markdown",
   "metadata": {},
   "source": [
    "### 10989\n",
    "- 아예 몰랐는데 다른 사람 풀이 보고 이해함..."
   ]
  },
  {
   "cell_type": "code",
   "execution_count": null,
   "metadata": {},
   "outputs": [],
   "source": [
    "# 10989\n",
    "# N개의 수가 주어졌을 때, 이를 오름차순으로 정렬하는 프로그램을 작성하시오.\n",
    "# 이 수는 10,000보다 작거나 같은 자연수이다.\n",
    "import sys\n",
    "\n",
    "n = int(input()) #입력받는 수의 개수 n\n",
    "n_list = [0] * 10001 # 리스트크기 <= 10000\n",
    "for i in range(n): \n",
    "    n_list[int(sys.stdin.readline())] += 1  # 들어오는 숫자 자리에 개수 넣어줌 \n",
    "for i in range(10001): # 0 부터 오름차순으로 돌면서 \n",
    "    if n_list[i] != 0: # 입력된 숫자가 있으면 \n",
    "        for j in range(n_list[i]): # 그 숫자 카운트 만큼 출력 \n",
    "            print(i)"
   ]
  },
  {
   "cell_type": "markdown",
   "metadata": {},
   "source": [
    "### 25305"
   ]
  },
  {
   "cell_type": "code",
   "execution_count": 21,
   "metadata": {},
   "outputs": [
    {
     "name": "stdout",
     "output_type": "stream",
     "text": [
      "98\n"
     ]
    }
   ],
   "source": [
    "# 25305 \n",
    "# 첫째 줄에는 응시자의 수 $N$과 상을 받는 사람의 수 $k$가 공백을 사이에 두고 주어진다.\n",
    "# 둘째 줄에는 각 학생의 점수 $x$가 공백을 사이에 두고 주어진다.\n",
    "# 5 2\n",
    "# 100 76 85 93 98\n",
    "\n",
    "\n",
    "num, win = input().split()\n",
    "scores = list(map(int, input().split()))\n",
    "scores.sort(reverse=True)\n",
    "print(scores[int(win)-1])\n"
   ]
  },
  {
   "cell_type": "markdown",
   "metadata": {},
   "source": [
    "### 2108\n",
    "- 최빈값 어케 구해용"
   ]
  },
  {
   "cell_type": "code",
   "execution_count": 23,
   "metadata": {},
   "outputs": [
    {
     "ename": "ValueError",
     "evalue": "invalid literal for int() with base 10: ''",
     "output_type": "error",
     "traceback": [
      "\u001b[0;31m---------------------------------------------------------------------------\u001b[0m",
      "\u001b[0;31mValueError\u001b[0m                                Traceback (most recent call last)",
      "\u001b[0;32m/var/folders/bj/dl6k0nyj4ps7vt_khy1t81hm0000gn/T/ipykernel_23868/2886705356.py\u001b[0m in \u001b[0;36m<module>\u001b[0;34m\u001b[0m\n\u001b[1;32m      8\u001b[0m \u001b[0;31m# N개의 수가 주어졌을 때, 네 가지 기본 통계값을 구하는 프로그램을 작성하시오.\u001b[0m\u001b[0;34m\u001b[0m\u001b[0;34m\u001b[0m\u001b[0m\n\u001b[1;32m      9\u001b[0m \u001b[0;34m\u001b[0m\u001b[0m\n\u001b[0;32m---> 10\u001b[0;31m \u001b[0mnum\u001b[0m \u001b[0;34m=\u001b[0m \u001b[0mint\u001b[0m\u001b[0;34m(\u001b[0m\u001b[0minput\u001b[0m\u001b[0;34m(\u001b[0m\u001b[0;34m)\u001b[0m\u001b[0;34m)\u001b[0m\u001b[0;34m\u001b[0m\u001b[0;34m\u001b[0m\u001b[0m\n\u001b[0m\u001b[1;32m     11\u001b[0m \u001b[0mnum_list\u001b[0m \u001b[0;34m=\u001b[0m \u001b[0;34m[\u001b[0m\u001b[0;34m]\u001b[0m\u001b[0;34m\u001b[0m\u001b[0;34m\u001b[0m\u001b[0m\n\u001b[1;32m     12\u001b[0m \u001b[0;32mfor\u001b[0m \u001b[0m_\u001b[0m \u001b[0;32min\u001b[0m \u001b[0mrange\u001b[0m\u001b[0;34m(\u001b[0m\u001b[0mnum\u001b[0m\u001b[0;34m)\u001b[0m\u001b[0;34m:\u001b[0m\u001b[0;34m\u001b[0m\u001b[0;34m\u001b[0m\u001b[0m\n",
      "\u001b[0;31mValueError\u001b[0m: invalid literal for int() with base 10: ''"
     ]
    }
   ],
   "source": [
    "# 2108 \n",
    "# 수를 처리하는 것은 통계학에서 상당히 중요한 일이다. 통계학에서 N개의 수를 대표하는 기본 통계값에는 다음과 같은 것들이 있다. 단, N은 홀수라고 가정하자.\n",
    "\n",
    "# 산술평균 : N개의 수들의 합을 N으로 나눈 값\n",
    "# 중앙값 : N개의 수들을 증가하는 순서로 나열했을 경우 그 중앙에 위치하는 값\n",
    "# 최빈값 : N개의 수들 중 가장 많이 나타나는 값 (여러개일 시, 두번째로 작은 값)\n",
    "# 범위 : N개의 수들 중 최댓값과 최솟값의 차이\n",
    "# N개의 수가 주어졌을 때, 네 가지 기본 통계값을 구하는 프로그램을 작성하시오.\n",
    "\n",
    "num = int(input())\n",
    "num_list = []\n",
    "for _ in range(num):\n",
    "    input_num = int(input())\n",
    "    num_list.append(input_num)\n",
    "print(sum(num_list) / num) # 평균 \n",
    "print(num_list[num//2 + 1]) # 중앙값\n",
    "print(max(num_list) - min(num_list)) # 범위 \n",
    "\n",
    "# 최빈값 저거 어케 구하냐 \n"
   ]
  },
  {
   "cell_type": "markdown",
   "metadata": {},
   "source": [
    "### 1427"
   ]
  },
  {
   "cell_type": "code",
   "execution_count": null,
   "metadata": {
    "colab": {
     "base_uri": "https://localhost:8080/"
    },
    "executionInfo": {
     "elapsed": 2642,
     "status": "ok",
     "timestamp": 1666148053968,
     "user": {
      "displayName": "강진영",
      "userId": "05441869404737161570"
     },
     "user_tz": -540
    },
    "id": "ByJwgkHLI0_m",
    "outputId": "6b29da08-32d2-4e0b-fd3e-6caf159d58f6"
   },
   "outputs": [
    {
     "name": "stdout",
     "output_type": "stream",
     "text": [
      "4321\n"
     ]
    },
    {
     "data": {
      "text/plain": [
       "1234"
      ]
     },
     "metadata": {},
     "output_type": "display_data"
    }
   ],
   "source": [
    "# 1427 \n",
    "# 배열을 정렬하는 것은 쉽다. 수가 주어지면, 그 수의 각 자리수를 내림차순으로 정렬해보자.\n",
    "# 입력 \n",
    "# 2143\n",
    "# 4321\n",
    "\n",
    "num = input()\n",
    "num_list = [n for n in num]\n",
    "num_list.sort(reverse=True)\n",
    "int(\"\".join(num_list))"
   ]
  },
  {
   "cell_type": "markdown",
   "metadata": {},
   "source": [
    "### 11650\n",
    "- 다른 사람 꺼 참고 "
   ]
  },
  {
   "cell_type": "code",
   "execution_count": null,
   "metadata": {
    "colab": {
     "base_uri": "https://localhost:8080/"
    },
    "executionInfo": {
     "elapsed": 2620,
     "status": "ok",
     "timestamp": 1666148847233,
     "user": {
      "displayName": "강진영",
      "userId": "05441869404737161570"
     },
     "user_tz": -540
    },
    "id": "AnRMGKrHKDAc",
    "outputId": "048d99dd-081e-4efe-e28e-84e9c744013b"
   },
   "outputs": [
    {
     "name": "stdout",
     "output_type": "stream",
     "text": [
      "3\n"
     ]
    },
    {
     "data": {
      "text/plain": [
       "[[], [], []]"
      ]
     },
     "metadata": {},
     "output_type": "display_data"
    }
   ],
   "source": [
    "# 11650 \n",
    "# 2차원 평면 위의 점 N개가 주어진다. 좌표를 x좌표가 증가하는 순으로, x좌표가 같으면 y좌표가 증가하는 순서로 정렬한 다음 출력하는 프로그램을 작성하시오.\n",
    "# 입력\n",
    "# 5\n",
    "# 3 4\n",
    "# 1 1\n",
    "# 1 -1\n",
    "# 2 2\n",
    "# 3 3\n",
    "\n",
    "# 출력 \n",
    "# 1 -1\n",
    "# 1 1\n",
    "# 2 2\n",
    "# 3 3\n",
    "# 3 4\n",
    "\n",
    "# - 다른 사람 코드 참고 \n",
    "import sys\n",
    "num = int(input())\n",
    "num_list = []\n",
    "for _ in range(num) :\n",
    "  input_list = list(map(int, sys.stdin.readline().split()))\n",
    "  num_list.append(input_list)\n",
    "\n",
    "num_list.sort(key = lambda x: (x[0], x[1]))\n",
    "for num in num_list : \n",
    "    print(num[0], num[1])\n"
   ]
  },
  {
   "cell_type": "code",
   "execution_count": null,
   "metadata": {
    "id": "Q8GCsNRVN2DZ"
   },
   "outputs": [],
   "source": [
    "# 내가 원래 한 건데 이거에 sys 왜 안되냐고\n",
    "num = int(input())\n",
    "x_list = []\n",
    "y_list = []\n",
    "for _ in range(num) :\n",
    "  x, y = map(int, input().split())\n",
    "  x_list.append(x)\n",
    "  y_list.append(y)\n",
    "\n",
    "x_list.sort()\n",
    "y_list.sort()\n",
    "\n",
    "for i in range(num) :\n",
    "  print(x_list[i], y_list[i])"
   ]
  },
  {
   "cell_type": "markdown",
   "metadata": {},
   "source": [
    "### 11651\n",
    "- 위에꺼랑 같은데 sort의 key 순서를 반대로 "
   ]
  },
  {
   "cell_type": "code",
   "execution_count": null,
   "metadata": {
    "id": "kWsjmiQ7O1fk"
   },
   "outputs": [],
   "source": [
    "# 11651 \n",
    "# 2차원 평면 위의 점 N개가 주어진다. 좌표를 y좌표가 증가하는 순으로, y좌표가 같으면 x좌표가 증가하는 순서로 정렬한 다음 출력하는 프로그램을 작성하시오.\n",
    "import sys\n",
    "num = int(input())\n",
    "num_list = []\n",
    "for _ in range(num) :\n",
    "  input_list = list(map(int, sys.stdin.readline().split()))\n",
    "  num_list.append(input_list)\n",
    "\n",
    "num_list.sort(key = lambda x: (x[1], x[0]))\n",
    "for num in num_list : \n",
    "    print(num[0], num[1])"
   ]
  },
  {
   "cell_type": "markdown",
   "metadata": {},
   "source": [
    "### 1181"
   ]
  },
  {
   "cell_type": "code",
   "execution_count": 15,
   "metadata": {
    "id": "u4s9jnPnO1jC"
   },
   "outputs": [
    {
     "name": "stdout",
     "output_type": "stream",
     "text": [
      "i\n",
      "aa\n",
      "could\n"
     ]
    }
   ],
   "source": [
    "# 1181 \n",
    "# 알파벳 소문자로 이루어진 N개의 단어가 들어오면 아래와 같은 조건에 따라 정렬하는 프로그램을 작성하시오.\n",
    "\n",
    "# 길이가 짧은 것부터\n",
    "# 길이가 같으면 사전 순으로\n",
    "\n",
    "num = int(input())\n",
    "words = []\n",
    "for _ in range(num) : # 단어리스트 만들기 \n",
    "  word = input()\n",
    "  words.append(word)\n",
    "\n",
    "words = sorted(list(set(words)), key = lambda x: (len(x), x)) # 하나씩만 출력해야 하니까 set() 해주고 sorted()\n",
    "for w in words : \n",
    "    print(w)\n"
   ]
  },
  {
   "cell_type": "markdown",
   "metadata": {},
   "source": [
    "### 10814"
   ]
  },
  {
   "cell_type": "code",
   "execution_count": 31,
   "metadata": {
    "id": "29MuSCUGO1lq"
   },
   "outputs": [
    {
     "name": "stdout",
     "output_type": "stream",
     "text": [
      "0 kk\n",
      "1 Jj\n",
      "61 kk\n"
     ]
    }
   ],
   "source": [
    "# 10814 \n",
    "# 온라인 저지에 가입한 사람들의 나이와 이름이 가입한 순서대로 주어진다. \n",
    "# 이때, 회원들을 나이가 증가하는 순으로, 나이가 같으면 먼저 가입한 사람이 앞에 오는 순서로 정렬하는 프로그램을 작성하시오.\n",
    "\n",
    "num = int(input())\n",
    "users = []\n",
    "for _ in range(num) : # 명단 만들기  \n",
    "  age, name = input().split()\n",
    "  users.append((int(age),name))\n",
    "users = sorted(users, key = lambda x : x[0]) # 나이 정렬 \n",
    "\n",
    "for user in users : \n",
    "  print(user[0], user[1])"
   ]
  },
  {
   "cell_type": "markdown",
   "metadata": {},
   "source": [
    "### 18870\n",
    "- 문제 이해가 안가묘.."
   ]
  },
  {
   "cell_type": "code",
   "execution_count": null,
   "metadata": {
    "id": "ha-rns0OQDs6"
   },
   "outputs": [],
   "source": [
    "# 18870 \n",
    "# 수직선 위에 N개의 좌표 X1, X2, ..., XN이 있다. 이 좌표에 좌표 압축을 적용하려고 한다.\n",
    "\n",
    "# Xi를 좌표 압축한 결과 X'i의 값은 Xi > Xj를 만족하는 서로 다른 좌표의 개수와 같아야 한다.\n",
    "\n",
    "# X1, X2, ..., XN에 좌표 압축을 적용한 결과 X'1, X'2, ..., X'N를 출력해보자.\n",
    "\n"
   ]
  },
  {
   "cell_type": "code",
   "execution_count": null,
   "metadata": {},
   "outputs": [],
   "source": []
  },
  {
   "cell_type": "code",
   "execution_count": null,
   "metadata": {},
   "outputs": [],
   "source": []
  }
 ],
 "metadata": {
  "kernelspec": {
   "display_name": "Python 3.9.7 ('base')",
   "language": "python",
   "name": "python3"
  },
  "language_info": {
   "codemirror_mode": {
    "name": "ipython",
    "version": 3
   },
   "file_extension": ".py",
   "mimetype": "text/x-python",
   "name": "python",
   "nbconvert_exporter": "python",
   "pygments_lexer": "ipython3",
   "version": "3.9.7"
  },
  "orig_nbformat": 4,
  "vscode": {
   "interpreter": {
    "hash": "522f452e25d61e127bccbf16995d738252b8ea2853de000579b55c32b7d367b0"
   }
  }
 },
 "nbformat": 4,
 "nbformat_minor": 2
}
