{
 "cells": [
  {
   "cell_type": "markdown",
   "metadata": {},
   "source": [
    "# 큐, 덱 "
   ]
  },
  {
   "cell_type": "markdown",
   "metadata": {},
   "source": [
    "### 18528"
   ]
  },
  {
   "cell_type": "code",
   "execution_count": null,
   "metadata": {},
   "outputs": [],
   "source": [
    "import sys \n",
    "from collections import deque\n",
    "n = int(sys.stdin.readline()) \n",
    "\n",
    "queue = deque([])\n",
    "for i in range(n):\n",
    "    cmd = sys.stdin.readline().split()\n",
    "    if cmd[0] == 'push':\n",
    "        queue.append(int(cmd[1]))\n",
    "    elif cmd[0] == 'pop':\n",
    "        if len(queue) == 0 :\n",
    "            print(-1)\n",
    "        else : print(queue.popleft())\n",
    "    elif cmd[0] == 'size':\n",
    "        print(len(queue))\n",
    "    elif cmd[0] == 'empty':\n",
    "        if len(queue) == 0 :\n",
    "            print(1)\n",
    "        else : print(0)\n",
    "    elif cmd[0] == 'front':\n",
    "        if len(queue) == 0 :\n",
    "            print(-1)\n",
    "        else : print(queue[0])\n",
    "    else : \n",
    "        if len(queue) == 0 :\n",
    "            print(-1)\n",
    "        else : print(queue[-1])\n"
   ]
  },
  {
   "cell_type": "markdown",
   "metadata": {},
   "source": [
    "### 2164"
   ]
  },
  {
   "cell_type": "code",
   "execution_count": 6,
   "metadata": {},
   "outputs": [
    {
     "name": "stdout",
     "output_type": "stream",
     "text": [
      "4\n"
     ]
    }
   ],
   "source": [
    "from collections import deque \n",
    "\n",
    "n = int(input())\n",
    "queue = deque([i for i in range(1, n+1)])\n",
    "\n",
    "if n == 1 :  # 1인 경우를 따로 하지 않으면 런타임 에러 \n",
    "    print(1)\n",
    "else : \n",
    "    while(True):\n",
    "        queue.popleft() # 1번 버리기 \n",
    "        queue.append(queue[0]) # 그 다음꺼 뒤로 보내고 \n",
    "        queue.popleft() # 뒤로 보낸건 버리기 \n",
    "        if len(queue) == 1 :  # 하나 남을때까지 하다가 브레이크 \n",
    "            break \n",
    "    print(queue[0])"
   ]
  },
  {
   "cell_type": "markdown",
   "metadata": {},
   "source": [
    "### 15828"
   ]
  },
  {
   "cell_type": "code",
   "execution_count": 11,
   "metadata": {},
   "outputs": [
    {
     "name": "stdout",
     "output_type": "stream",
     "text": [
      "5 6 "
     ]
    }
   ],
   "source": [
    "import sys \n",
    "from collections import deque \n",
    "n = int(sys.stdin.readline())\n",
    "queue = deque([])\n",
    "while 1: # while(True) \n",
    "    cmd = int(sys.stdin.readline())\n",
    "    if cmd == -1 : \n",
    "        break \n",
    "    if cmd > 0  and len(queue) < n: # 양수일 때는 추가 하는데, 길이 안넘칠때만 (넘치면 아무것도 안하겠지) \n",
    "        queue.append(cmd)\n",
    "    else : # 0일때는 맨 앞 패킷 처리 \n",
    "        queue.popleft()\n",
    "if queue : \n",
    "    print(*queue) # for num in queue : print(num, end = \" \")  이거랑 같음! \n",
    "else :\n",
    "    print(\"empty\")"
   ]
  },
  {
   "cell_type": "code",
   "execution_count": 12,
   "metadata": {},
   "outputs": [
    {
     "name": "stdout",
     "output_type": "stream",
     "text": [
      "1 2\n"
     ]
    }
   ],
   "source": [
    "import sys\n",
    "from collections import deque\n",
    "\n",
    "N = int(sys.stdin.readline())\n",
    "queue = deque()\n",
    "while 1:\n",
    "    n = int(sys.stdin.readline())\n",
    "    if n == -1:\n",
    "        break\n",
    "    if n != 0 and len(queue) < N:\n",
    "        queue.append(n)\n",
    "    elif n == 0:\n",
    "        queue.popleft()\n",
    "if queue:\n",
    "    print(*queue)\n",
    "else: \n",
    "    print(\"empty\")"
   ]
  },
  {
   "cell_type": "markdown",
   "metadata": {},
   "source": [
    "### 11866"
   ]
  },
  {
   "cell_type": "code",
   "execution_count": 18,
   "metadata": {},
   "outputs": [
    {
     "name": "stdout",
     "output_type": "stream",
     "text": [
      "<3, 6, 2, 7, 5, 1, 4>\n"
     ]
    }
   ],
   "source": [
    "from collections import deque \n",
    "\n",
    "n, k = map(int, input().split())\n",
    "queue = deque([i for i in range(1, n+1)])\n",
    "\n",
    "print('<', end='')\n",
    "for i in range(n): # 숫자 다 할 때까지 \n",
    "    for j in range(k-1): # 뺄거 전까지 뒤로 넘겨주고 \n",
    "        queue.append(queue.popleft())\n",
    "    print(queue.popleft(), end='')\n",
    "    if i != n-1 : # 마지막에서만 , 붙이지 말기 \n",
    "        print(\",\", end = ' ')\n",
    "print('>')\n"
   ]
  },
  {
   "cell_type": "markdown",
   "metadata": {},
   "source": [
    "### 1966"
   ]
  },
  {
   "cell_type": "code",
   "execution_count": 19,
   "metadata": {},
   "outputs": [
    {
     "ename": "SyntaxError",
     "evalue": "invalid syntax (2017194770.py, line 4)",
     "output_type": "error",
     "traceback": [
      "\u001b[0;36m  File \u001b[0;32m\"/var/folders/bj/dl6k0nyj4ps7vt_khy1t81hm0000gn/T/ipykernel_6222/2017194770.py\"\u001b[0;36m, line \u001b[0;32m4\u001b[0m\n\u001b[0;31m    for\u001b[0m\n\u001b[0m        ^\u001b[0m\n\u001b[0;31mSyntaxError\u001b[0m\u001b[0;31m:\u001b[0m invalid syntax\n"
     ]
    }
   ],
   "source": [
    "from collections import deque \n",
    "num = int(input())\n",
    "\n",
    "for _ in range(num) : \n",
    "    n, m = map(int, input().split())\n",
    "    queue = deque(list(map(int, input().split()))) # 문서 \n",
    "    idx = deque([i for i in range(n)]) # 문서 인덱스 \n",
    "    count = 0 # 프린트 횟수 \n",
    "    while 1: # break할 때까지 계속 반복 \n",
    "        if queue[0] == max(queue): # 맨 앞에 온게 제일 중요한 거면 \n",
    "            count += 1 # 프린트 작업 하는데 \n",
    "            if idx[0] == m : # 그 때 내가 찾는 문서 위치랑 같으면 \n",
    "                print(count) # 출력하고 종료 \n",
    "                break \n",
    "            else : # 내가 찾는 문서 아니었으면 \n",
    "                queue.popleft() # 프린트 작업은 한거니까 문서 삭제 \n",
    "                idx.popleft() # 그 문서의 인덱스도 삭제 \n",
    "        else : # 제일 중요한 문서 아니면 뒤로 빼기 \n",
    "            queue.append(queue.popleft())\n",
    "            idx.append(idx.popleft())\n"
   ]
  },
  {
   "cell_type": "markdown",
   "metadata": {},
   "source": [
    "### 10866 \n"
   ]
  },
  {
   "cell_type": "code",
   "execution_count": null,
   "metadata": {},
   "outputs": [],
   "source": [
    "from collections import deque\n",
    "import sys\n",
    "\n",
    "d = deque()\n",
    "n = int(input())\n",
    "\n",
    "for i in range(n):\n",
    "    command = sys.stdin.readline().split()\n",
    "\n",
    "    if command[0] == \"push_front\":\n",
    "        d.appendleft(command[1])\n",
    "    elif command[0] == \"push_back\":\n",
    "        d.append(command[1])\n",
    "    elif command[0] == \"pop_front\":\n",
    "        if d:\n",
    "            print(d[0])    \n",
    "            d.popleft()\n",
    "        else:\n",
    "            print(\"-1\")\n",
    "    elif command[0] == \"pop_back\":\n",
    "        if d:\n",
    "            print(d[len(d) - 1])    \n",
    "            d.pop()\n",
    "        else:\n",
    "            print(\"-1\")\n",
    "    elif command[0] == \"size\":\n",
    "        print(len(d))\n",
    "    elif command[0] == \"empty\":\n",
    "        if d:\n",
    "            print(\"0\")\n",
    "        else:\n",
    "            print(\"1\")\n",
    "    elif command[0] == \"front\":\n",
    "        if d:\n",
    "            print(d[0])\n",
    "        else:\n",
    "            print(\"-1\")\n",
    "    elif command[0] == \"back\":\n",
    "        if d:\n",
    "            print(d[len(d) - 1])\n",
    "        else:\n",
    "            print(\"-1\")"
   ]
  },
  {
   "cell_type": "markdown",
   "metadata": {},
   "source": [
    "### 1021"
   ]
  },
  {
   "cell_type": "code",
   "execution_count": null,
   "metadata": {},
   "outputs": [],
   "source": [
    "from collections import deque\n",
    "\n",
    "n, m = map(int, input().split())    # 큐의 크기 n과 뽑아내려고 하는 수의 개수 m을 입력값으로 받기\n",
    "position = list(map(int, input().split()))  # 뽑아내려는 수의 위치를 입력값으로 받기\n",
    "dq = deque([i for i in range(1, n+1)])  # deque([1, 2, 3,...,n])\n",
    "\n",
    "count = 0   # 2, 3번 수행하면 카운트 올리기\n",
    "# 뽑으려는 수를 하나씩 돌아가면서 뽑으면 다음 수로 넘어가고, 일케 하나씩 하려는 것! \n",
    "for i in position:  # 뽑아내려는 수의 위치 하나씩 반복문 돌리기 \n",
    "    while True:     # dq에서 i 뽑을 때까지 반복 \n",
    "        if dq[0] == i:  # dq의 첫인덱스가 뽑아내려는 수의 인덱스와 같다면 1번 수행 : 뒤로 빼놓고 \n",
    "            dq.popleft() # 그 수는 없애기 \n",
    "            break # 빼놨으니까 다음 인덱스로 넘어가 \n",
    "        else: # dq의 첫 인덱스가 찾으려는게 아니면 2 또는 3을 수행해야 함 \n",
    "            if dq.index(i) < len(dq)/2:  # 뽑아내려는 수의 위치 인덱스가 dq의 길이를 반으로 나눈것보다 작을때는 왼쪽으로 움직여야 최소 : 가까이에 있다는 말이니까 시계방향으로 한칸씩 다가가기 \n",
    "                while dq[0] != i:   # dq의 첫번째 인덱스가 i와 같아질때까지 반복\n",
    "                    dq.append(dq.popleft()) # 안같으면 뒤로 넘기면서 같을때까지 계속  \n",
    "                    count += 1\n",
    "            else:   # 뽑아내려는 수의 위치 인덱스가 dq의 길이를 반으로 나눈것보다 클때는 오른쪽으로 움직여야 최소 : 큰 수에 가깝단 얘기 즉, 멀리있으니까 반시계로 돌려야 함\n",
    "                while dq[0] != i:\n",
    "                    dq.appendleft(dq.pop())  \n",
    "                    count += 1\n",
    "print(count)"
   ]
  },
  {
   "cell_type": "code",
   "execution_count": null,
   "metadata": {},
   "outputs": [],
   "source": [
    "from collections import deque\n",
    " \n",
    "t = int(input()) \n",
    " \n",
    "for i in range(t):\n",
    "    p = input() \n",
    "    n = int(input()) \n",
    "    arr = input()[1:-1].split(',') # 양 옆에 [] 지워주느라 \n",
    " \n",
    "    queue = deque(arr)\n",
    " \n",
    "    flag = 0 # 뒤집기 : 짝수면 reverse 안해도 됨 \n",
    "    empty = 0 # 빈 값 표시 : 이거 왜해야되는지 모르겟네 \n",
    "\n",
    "    # 길이가 0인 배열이 들어오면 queue를 빈 값으로 만들어 줌 \n",
    "    if n == 0:\n",
    "        queue = []\n",
    "\n",
    "    # 명령 수행 \n",
    "    for j in p:\n",
    "        if j == 'R':\n",
    "            flag += 1 # 뒤집기 : 여기서 reverse() 하면 런타임 에러 \n",
    "        elif j == 'D':\n",
    "            if len(queue) == 0: # 비었으면 \n",
    "                empty = 1 # 비었다고 체크 \n",
    "                print(\"error\") # 에러나고 종료 \n",
    "                break\n",
    "            else: # 안비었으면 \n",
    "                if flag % 2 == 0: # 뒤집기 안하는 상태 : 맨 앞에꺼 제거 \n",
    "                    queue.popleft() \n",
    "                else: # 뒤집기 하는 상태 : 맨 뒤에꺼가 맨 앞에꺼니까 맨 뒤에꺼 제거 \n",
    "                    queue.pop()\n",
    " \n",
    "    if empty == 0 : # 비어있지 않은 경우에만 출력 \n",
    "        if flag % 2 == 0:\n",
    "            print(\"[\" + \",\".join(queue) + \"]\")\n",
    "        else:\n",
    "            queue.reverse()\n",
    "            print(\"[\" + \",\".join(queue) + \"]\")"
   ]
  }
 ],
 "metadata": {
  "kernelspec": {
   "display_name": "Python 3.9.7 ('base')",
   "language": "python",
   "name": "python3"
  },
  "language_info": {
   "codemirror_mode": {
    "name": "ipython",
    "version": 3
   },
   "file_extension": ".py",
   "mimetype": "text/x-python",
   "name": "python",
   "nbconvert_exporter": "python",
   "pygments_lexer": "ipython3",
   "version": "3.9.7"
  },
  "orig_nbformat": 4,
  "vscode": {
   "interpreter": {
    "hash": "522f452e25d61e127bccbf16995d738252b8ea2853de000579b55c32b7d367b0"
   }
  }
 },
 "nbformat": 4,
 "nbformat_minor": 2
}
